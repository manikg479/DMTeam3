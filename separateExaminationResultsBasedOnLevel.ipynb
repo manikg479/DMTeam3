{
 "cells": [
  {
   "cell_type": "markdown",
   "metadata": {},
   "source": [
    "# File containing code to separate examination results based on level"
   ]
  },
  {
   "cell_type": "code",
   "execution_count": 1,
   "metadata": {},
   "outputs": [],
   "source": [
    "# Dependencies\n",
    "import pandas as pd\n",
    "import os"
   ]
  },
  {
   "cell_type": "code",
   "execution_count": 2,
   "metadata": {},
   "outputs": [],
   "source": [
    "# Read data\n",
    "df = pd.read_csv(\"../data/raw/C-2015-DCF-Block_2E-Examination_Results-2015.csv\", index_col=False)"
   ]
  },
  {
   "cell_type": "code",
   "execution_count": 3,
   "metadata": {},
   "outputs": [],
   "source": [
    "# Fill empty cells with 0\n",
    "df = df.fillna(0)"
   ]
  },
  {
   "cell_type": "code",
   "execution_count": 4,
   "metadata": {},
   "outputs": [],
   "source": [
    "# Drop unnecessary data\n",
    "df = df.drop(columns=[\"programme\", \"discipline_group_id\", \"broad_discipline_group\", \"discipline\", \"survey_year\", \"course_mode\", \"programme_id\"])"
   ]
  },
  {
   "cell_type": "code",
   "execution_count": 5,
   "metadata": {},
   "outputs": [],
   "source": [
    "# Separate data based on level\n",
    "pg = df[df[\"course_level\"] == \"Post Graduate\"].groupby(by=[\"id\", \"name\"]).sum()\n",
    "phd = df[df[\"course_level\"] == \"Ph.D.\"].groupby(by=[\"id\", \"name\"]).sum()\n",
    "pgd = df[df[\"course_level\"] == \"PG Diploma\"].groupby(by=[\"id\", \"name\"]).sum()\n",
    "mphil = df[df[\"course_level\"] == \"M.Phil.\"].groupby(by=[\"id\", \"name\"]).sum()\n",
    "integrated = df[df[\"course_level\"] == \"Integrated\"].groupby(by=[\"id\", \"name\"]).sum()\n",
    "diploma = df[df[\"course_level\"] == \"Diploma\"].groupby(by=[\"id\", \"name\"]).sum()\n",
    "certificate = df[df[\"course_level\"] == \"Certificate\"].groupby(by=[\"id\", \"name\"]).sum()\n",
    "ug = df[df[\"course_level\"] == \"Under Graduate\"].groupby(by=[\"id\", \"name\"]).sum()"
   ]
  },
  {
   "cell_type": "code",
   "execution_count": 6,
   "metadata": {},
   "outputs": [],
   "source": [
    "# Check if processed directory exists\n",
    "if not os.path.exists(\"../data/processed\"):\n",
    "    # Create directory\n",
    "    os.mkdir(\"../data/processed\")"
   ]
  },
  {
   "cell_type": "code",
   "execution_count": 7,
   "metadata": {},
   "outputs": [],
   "source": [
    "# Check if results directory exists\n",
    "if not os.path.exists(\"../data/processed/results\"):\n",
    "    # Create directory\n",
    "    os.mkdir(\"../data/processed/results\")"
   ]
  },
  {
   "cell_type": "code",
   "execution_count": 8,
   "metadata": {},
   "outputs": [],
   "source": [
    "# Write data to file\n",
    "pg.to_csv(\"../data/processed/results/pg_results.csv\")\n",
    "phd.to_csv(\"../data/processed/results/phd_results.csv\")\n",
    "pgd.to_csv(\"../data/processed/results/pgd_results.csv\")\n",
    "mphil.to_csv(\"../data/processed/results/mphil_results.csv\")\n",
    "integrated.to_csv(\"../data/processed/results/integrated_results.csv\")\n",
    "diploma.to_csv(\"../data/processed/results/diploma_results.csv\")\n",
    "certificate.to_csv(\"../data/processed/results/certificate_results.csv\")\n",
    "ug.to_csv(\"../data/processed/results/ug_results.csv\")"
   ]
  },
  {
   "cell_type": "code",
   "execution_count": null,
   "metadata": {},
   "outputs": [],
   "source": []
  }
 ],
 "metadata": {
  "kernelspec": {
   "display_name": "Python 3",
   "language": "python",
   "name": "python3"
  },
  "language_info": {
   "codemirror_mode": {
    "name": "ipython",
    "version": 3
   },
   "file_extension": ".py",
   "mimetype": "text/x-python",
   "name": "python",
   "nbconvert_exporter": "python",
   "pygments_lexer": "ipython3",
   "version": "3.7.6"
  }
 },
 "nbformat": 4,
 "nbformat_minor": 4
}
