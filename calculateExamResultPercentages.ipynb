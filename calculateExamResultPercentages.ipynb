{
 "cells": [
  {
   "cell_type": "markdown",
   "metadata": {},
   "source": [
    "# File containing code to calculate exam result percentages"
   ]
  },
  {
   "cell_type": "code",
   "execution_count": 1,
   "metadata": {},
   "outputs": [],
   "source": [
    "# Dependencies\n",
    "import pandas as pd"
   ]
  },
  {
   "cell_type": "code",
   "execution_count": 2,
   "metadata": {},
   "outputs": [],
   "source": [
    "# Read accreditation data\n",
    "accreditation = pd.read_csv(\"../data/processed/college_accreditation_score.csv\")"
   ]
  },
  {
   "cell_type": "code",
   "execution_count": 3,
   "metadata": {},
   "outputs": [],
   "source": [
    "# Initialise array to hold all course levels\n",
    "results = [\"certificate\", \"diploma\", \"integrated\", \"mphil\", \"pg\", \"pgd\", \"phd\", \"ug\"]"
   ]
  },
  {
   "cell_type": "code",
   "execution_count": 5,
   "metadata": {},
   "outputs": [],
   "source": [
    "# Iterate over all course levels\n",
    "for res in results:\n",
    "\n",
    "    # Read data set for current level\n",
    "    data = pd.read_csv(\"../data/processed/results/\"+res+\"_results.csv\", index_col=[\"id\"])\n",
    "\n",
    "    # Calculate female percentages\n",
    "    data[\"appeared_female_percentage\"] = data[\"appeared_female\"]*100/data[\"appeared_total\"]\n",
    "    data[\"first_class_passed_female_percentage\"] = data[\"first_class_passed_female\"]*100/data[\"appeared_female\"]\n",
    "    data[\"passed_female_percentage\"] = data[\"passed_female\"]*100/data[\"appeared_female\"]\n",
    "\n",
    "    # Calculate appeared_male and appeared_male_percentage\n",
    "    data[\"appeared_male\"] = data[\"appeared_total\"]-data[\"appeared_female\"]\n",
    "    data[\"appeared_male_percentage\"] = (data[\"appeared_male\"])*100/data[\"appeared_total\"]\n",
    "\n",
    "    # Calculate passed_male and passed_male_percentage\n",
    "    data[\"passed_male\"] = data[\"passed_total\"]-data[\"passed_female\"]\n",
    "    data[\"passed_male_percentage\"] = data[\"passed_male\"]*100/data[\"appeared_male\"]\n",
    "\n",
    "    # Calculate first_class_passed_male and first_class_passed_male_percentage\n",
    "    data[\"first_class_passed_male\"] = data[\"first_class_passed_total\"]-data[\"first_class_passed_female\"]\n",
    "    data[\"first_class_passed_male_percentage\"] = data[\"first_class_passed_male\"]*100/data[\"appeared_male\"]\n",
    "\n",
    "    # Write data to file\n",
    "    data.to_csv(\"../data/processed/results/\"+res+\"_results.csv\")"
   ]
  },
  {
   "cell_type": "code",
   "execution_count": null,
   "metadata": {},
   "outputs": [],
   "source": []
  }
 ],
 "metadata": {
  "kernelspec": {
   "display_name": "Python 3",
   "language": "python",
   "name": "python3"
  },
  "language_info": {
   "codemirror_mode": {
    "name": "ipython",
    "version": 3
   },
   "file_extension": ".py",
   "mimetype": "text/x-python",
   "name": "python",
   "nbconvert_exporter": "python",
   "pygments_lexer": "ipython3",
   "version": "3.7.6"
  }
 },
 "nbformat": 4,
 "nbformat_minor": 4
}
