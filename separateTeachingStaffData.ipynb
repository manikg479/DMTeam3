{
 "cells": [
  {
   "cell_type": "markdown",
   "metadata": {},
   "source": [
    "# File containing code to separate teaching staff data"
   ]
  },
  {
   "cell_type": "code",
   "execution_count": 1,
   "metadata": {},
   "outputs": [],
   "source": [
    "# Dependencies\n",
    "import pandas as pd\n",
    "import os"
   ]
  },
  {
   "cell_type": "code",
   "execution_count": 2,
   "metadata": {},
   "outputs": [],
   "source": [
    "# Read in data\n",
    "df = pd.read_csv(\"../data/raw/C-2015-DCF-Block_2C-Teaching_Staff_Summary-2015.csv\", index_col=False)"
   ]
  },
  {
   "cell_type": "code",
   "execution_count": 3,
   "metadata": {},
   "outputs": [],
   "source": [
    "# Drop unnecessary data\n",
    "df = df.drop(columns=[\"survey_year\"])"
   ]
  },
  {
   "cell_type": "code",
   "execution_count": 4,
   "metadata": {},
   "outputs": [],
   "source": [
    "# Set cells with NA to 0\n",
    "df = df.fillna(0)"
   ]
  },
  {
   "cell_type": "code",
   "execution_count": 5,
   "metadata": {},
   "outputs": [],
   "source": [
    "# Separate data based on designation\n",
    "prof1 = df[ df[\"designation\"] == \"Additional Professor\" ]\n",
    "prof2 = df[ df[\"designation\"] == \"Assistant Professor\" ]\n",
    "prof3 = df[ df[\"designation\"] == \"Associate Professor\" ]"
   ]
  },
  {
   "cell_type": "code",
   "execution_count": 6,
   "metadata": {},
   "outputs": [],
   "source": [
    "lecturer1 = df[ df[\"designation\"] == \"Lecturer\" ]\n",
    "lecturer2 = df[ df[\"designation\"] == \"Lecturer (Selection Grade)\" ]\n",
    "lecturer3 = df[ df[\"designation\"] == \"Lecturer (Senior Scale)\" ]"
   ]
  },
  {
   "cell_type": "code",
   "execution_count": 7,
   "metadata": {},
   "outputs": [],
   "source": [
    "teacher1 = df[ df[\"designation\"] == \"Contract Teacher\" ]\n",
    "teacher2 = df[ df[\"designation\"] == \"Temporary Teacher\" ]\n",
    "teacher3 = df[ df[\"designation\"] == \"Visiting Teacher\" ]"
   ]
  },
  {
   "cell_type": "code",
   "execution_count": 8,
   "metadata": {},
   "outputs": [],
   "source": [
    "# Concat all professor data to a single dataframe\n",
    "prof = pd.concat([prof1, prof2, prof3])"
   ]
  },
  {
   "cell_type": "code",
   "execution_count": 9,
   "metadata": {},
   "outputs": [],
   "source": [
    "# Concat all lecturer data to a single dataframe\n",
    "lecturer = pd.concat([lecturer1, lecturer2, lecturer3])"
   ]
  },
  {
   "cell_type": "code",
   "execution_count": 10,
   "metadata": {},
   "outputs": [],
   "source": [
    "# Concat all teacher data to a single dataframe\n",
    "teacher = pd.concat([teacher1, teacher2, teacher3])"
   ]
  },
  {
   "cell_type": "code",
   "execution_count": 11,
   "metadata": {},
   "outputs": [],
   "source": [
    "# Calculate total number of professors in each institution\n",
    "prof = prof.groupby(by=[\"id\", \"institution_name\"]).sum()\n",
    "# Calculate total number of professors in each institution\n",
    "lecturer = lecturer.groupby(by=[\"id\", \"institution_name\"]).sum()\n",
    "# Calculate total number of teachers in each institution\n",
    "teacher = teacher.groupby(by=[\"id\", \"institution_name\"]).sum()"
   ]
  },
  {
   "cell_type": "code",
   "execution_count": 12,
   "metadata": {},
   "outputs": [],
   "source": [
    "# Check if processed directory exists\n",
    "if not os.path.exists(\"../data/processed\"):\n",
    "    # Create directory\n",
    "    os.mkdir(\"../data/processed\")\n",
    "# Check if processed directory exists\n",
    "if not os.path.exists(\"../data/processed/teachingStaff\"):\n",
    "    # Create directory\n",
    "    os.mkdir(\"../data/processed/teachingStaff\")"
   ]
  },
  {
   "cell_type": "code",
   "execution_count": 13,
   "metadata": {},
   "outputs": [],
   "source": [
    "# Write data to file\n",
    "prof.to_csv(\"../data/processed/teachingStaff/college_professor_data.csv\")\n",
    "lecturer.to_csv(\"../data/processed/teachingStaff/college_lecturer_data.csv\")\n",
    "teacher.to_csv(\"../data/processed/teachingStaff/college_teacher_data.csv\")"
   ]
  },
  {
   "cell_type": "code",
   "execution_count": null,
   "metadata": {},
   "outputs": [],
   "source": []
  }
 ],
 "metadata": {
  "kernelspec": {
   "display_name": "Python 3",
   "language": "python",
   "name": "python3"
  },
  "language_info": {
   "codemirror_mode": {
    "name": "ipython",
    "version": 3
   },
   "file_extension": ".py",
   "mimetype": "text/x-python",
   "name": "python",
   "nbconvert_exporter": "python",
   "pygments_lexer": "ipython3",
   "version": "3.7.6"
  }
 },
 "nbformat": 4,
 "nbformat_minor": 4
}
