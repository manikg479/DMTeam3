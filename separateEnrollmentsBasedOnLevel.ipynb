{
 "cells": [
  {
   "cell_type": "markdown",
   "metadata": {},
   "source": [
    "# File containing code to separate enrollment data based on level"
   ]
  },
  {
   "cell_type": "code",
   "execution_count": 1,
   "metadata": {},
   "outputs": [],
   "source": [
    "# Dependencies\n",
    "import pandas as pd\n",
    "import os"
   ]
  },
  {
   "cell_type": "code",
   "execution_count": 2,
   "metadata": {},
   "outputs": [],
   "source": [
    "# Read data\n",
    "df = pd.read_csv(\"../data/raw/C-2015-DCF-Block_2D-Student_enrollment_for_Regular_Courses-2015.csv\", index_col=False)\n",
    "# Set empty cells to 0\n",
    "df = df.fillna(0)"
   ]
  },
  {
   "cell_type": "code",
   "execution_count": 3,
   "metadata": {},
   "outputs": [],
   "source": [
    "# Aggregate male and female enrollments\n",
    "df[\"total_enrollment\"] = df[\"total_total_persons\"] + df[\"pwd_total_persons\"] + df[\"muslim_minority_total_persons\"] + df[\"other_minority_total_persons\"]\n",
    "df[\"total_female_enrollment\"] = df[\"total_total_females\"] + df[\"pwd_total_females\"] + df[\"muslim_minority_total_females\"] + df[\"other_minority_total_females\"]\n",
    "df[\"total_male_enrollment\"] = df[\"total_enrollment\"] - df[\"total_female_enrollment\"]"
   ]
  },
  {
   "cell_type": "code",
   "execution_count": 4,
   "metadata": {},
   "outputs": [],
   "source": [
    "# Select required columns\n",
    "df = df[ [\"College_id\", \"College_name\", \"total_enrollment\", \"total_female_enrollment\", \"total_male_enrollment\", \"levell\"] ]"
   ]
  },
  {
   "cell_type": "code",
   "execution_count": 5,
   "metadata": {},
   "outputs": [],
   "source": [
    "# Separate data based on level\n",
    "pg = df[df[\"levell\"] == \"Post Graduate\"].groupby(by=[\"College_id\", \"College_name\"]).sum()\n",
    "phd = df[df[\"levell\"] == \"Ph.D.\"].groupby(by=[\"College_id\", \"College_name\"]).sum()\n",
    "pgd = df[df[\"levell\"] == \"PG Diploma\"].groupby(by=[\"College_id\", \"College_name\"]).sum()\n",
    "mphil = df[df[\"levell\"] == \"M.Phil.\"].groupby(by=[\"College_id\", \"College_name\"]).sum()\n",
    "integrated = df[df[\"levell\"] == \"Integrated\"].groupby(by=[\"College_id\", \"College_name\"]).sum()\n",
    "diploma = df[df[\"levell\"] == \"Diploma\"].groupby(by=[\"College_id\", \"College_name\"]).sum()\n",
    "certificate = df[df[\"levell\"] == \"Certificate\"].groupby(by=[\"College_id\", \"College_name\"]).sum()\n",
    "ug = df[df[\"levell\"] == \"Under Graduate\"].groupby(by=[\"College_id\", \"College_name\"]).sum()"
   ]
  },
  {
   "cell_type": "code",
   "execution_count": 6,
   "metadata": {},
   "outputs": [],
   "source": [
    "# Check if processed directory exists\n",
    "if not os.path.exists(\"../data/processed\"):\n",
    "    # Create directory\n",
    "    os.mkdir(\"../data/processed\")\n",
    "# Check if results directory exists\n",
    "if not os.path.exists(\"../data/processed/enrollments\"):\n",
    "    # Create directory\n",
    "    os.mkdir(\"../data/processed/enrollments\")"
   ]
  },
  {
   "cell_type": "code",
   "execution_count": 7,
   "metadata": {},
   "outputs": [],
   "source": [
    "# Write data to file\n",
    "pg.to_csv(\"../data/processed/enrollments/pg_enrollemnts.csv\")\n",
    "phd.to_csv(\"../data/processed/enrollments/phd_enrollemnts.csv\")\n",
    "pgd.to_csv(\"../data/processed/enrollments/pgd_enrollemnts.csv\")\n",
    "mphil.to_csv(\"../data/processed/enrollments/mphil_enrollemnts.csv\")\n",
    "integrated.to_csv(\"../data/processed/enrollments/integrated_enrollemnts.csv\")\n",
    "diploma.to_csv(\"../data/processed/enrollments/diploma_enrollemnts.csv\")\n",
    "certificate.to_csv(\"../data/processed/enrollments/certificate_enrollemnts.csv\")\n",
    "ug.to_csv(\"../data/processed/enrollments/ug_enrollemnts.csv\")"
   ]
  },
  {
   "cell_type": "code",
   "execution_count": null,
   "metadata": {},
   "outputs": [],
   "source": []
  }
 ],
 "metadata": {
  "kernelspec": {
   "display_name": "Python 3",
   "language": "python",
   "name": "python3"
  },
  "language_info": {
   "codemirror_mode": {
    "name": "ipython",
    "version": 3
   },
   "file_extension": ".py",
   "mimetype": "text/x-python",
   "name": "python",
   "nbconvert_exporter": "python",
   "pygments_lexer": "ipython3",
   "version": "3.7.6"
  }
 },
 "nbformat": 4,
 "nbformat_minor": 4
}
