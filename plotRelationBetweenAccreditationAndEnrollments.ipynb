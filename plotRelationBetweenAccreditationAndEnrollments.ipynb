{
 "cells": [
  {
   "cell_type": "markdown",
   "metadata": {},
   "source": [
    "# File containing code to generate plots between accreditation and enrollments"
   ]
  },
  {
   "cell_type": "code",
   "execution_count": 1,
   "metadata": {},
   "outputs": [],
   "source": [
    "# Dependencies\n",
    "import pandas as pd\n",
    "import matplotlib.pyplot as plt\n",
    "import os"
   ]
  },
  {
   "cell_type": "code",
   "execution_count": 2,
   "metadata": {},
   "outputs": [],
   "source": [
    "# Check if directory exists\n",
    "if not os.path.exists(\"../plots/enrollments\"):\n",
    "    # Create directory\n",
    "    os.makedirs(\"../plots/enrollments\")"
   ]
  },
  {
   "cell_type": "code",
   "execution_count": 3,
   "metadata": {},
   "outputs": [],
   "source": [
    "# Read accreditation data\n",
    "accreditation = pd.read_csv(\"../data/processed/college_accreditation_score.csv\", index_col=False)"
   ]
  },
  {
   "cell_type": "code",
   "execution_count": 4,
   "metadata": {},
   "outputs": [],
   "source": [
    "# Initialise enrollment categories\n",
    "enrollments = [\"certificate\", \"diploma\", \"integrated\", \"mphil\", \"pg\", \"pgd\", \"phd\", \"ug\"]"
   ]
  },
  {
   "cell_type": "code",
   "execution_count": 5,
   "metadata": {},
   "outputs": [],
   "source": [
    "# Array holding all columns\n",
    "columns = [\"total_enrollment\", \"total_female_enrollment\", \"total_male_enrollment\"]"
   ]
  },
  {
   "cell_type": "code",
   "execution_count": 6,
   "metadata": {},
   "outputs": [
    {
     "data": {
      "text/plain": [
       "<Figure size 432x288 with 0 Axes>"
      ]
     },
     "metadata": {},
     "output_type": "display_data"
    }
   ],
   "source": [
    "# Iterate over all categories\n",
    "for enroll in enrollments:\n",
    "    # Read data\n",
    "    data = pd.read_csv(\"../data/processed/enrollments/\"+enroll+\"_enrollemnts.csv\", index_col=False)\n",
    "    # Rename id column\n",
    "    data[\"id\"] = data[\"College_id\"]\n",
    "    # Merge datasets\n",
    "    merged = pd.merge(accreditation, data, on=[\"id\"])\n",
    "\n",
    "    # Iterate over all columns\n",
    "    for column in columns:\n",
    "        # Create a scatter plot\n",
    "        plt.scatter(merged[\"normalised_score\"].tolist(), merged[column].tolist())\n",
    "        plt.title(\"normalised_score v \"+column)\n",
    "        plt.xlabel(\"normalised_score\")\n",
    "        plt.ylabel(column)\n",
    "        # plt.show()\n",
    "        plt.savefig(\"../plots/enrollments/\"+enroll+\"_normalised_score v \"+column+\".png\")\n",
    "        plt.clf()"
   ]
  },
  {
   "cell_type": "code",
   "execution_count": null,
   "metadata": {},
   "outputs": [],
   "source": []
  }
 ],
 "metadata": {
  "kernelspec": {
   "display_name": "Python 3",
   "language": "python",
   "name": "python3"
  },
  "language_info": {
   "codemirror_mode": {
    "name": "ipython",
    "version": 3
   },
   "file_extension": ".py",
   "mimetype": "text/x-python",
   "name": "python",
   "nbconvert_exporter": "python",
   "pygments_lexer": "ipython3",
   "version": "3.7.6"
  }
 },
 "nbformat": 4,
 "nbformat_minor": 4
}
